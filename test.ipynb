{
 "cells": [
  {
   "cell_type": "code",
   "execution_count": 1,
   "metadata": {},
   "outputs": [],
   "source": [
    "import numpy as np\n",
    "import pandas as pd"
   ]
  },
  {
   "cell_type": "code",
   "execution_count": 3,
   "metadata": {},
   "outputs": [
    {
     "name": "stdout",
     "output_type": "stream",
     "text": [
      "[-4.  -2.4 -0.8  0.8  2.4  4. ]\n",
      "[-4.8 -3.2 -1.6  0.   1.6  3.2  4.8]\n"
     ]
    }
   ],
   "source": [
    "v_cut = 4.8\n",
    "n_v = 6\n",
    "v_mesh = np.array([-v_cut + (2 * v_cut / n_v) * (i + 0.5) for i in range(n_v)])\n",
    "borders = np.array([-v_cut + (2 * v_cut / n_v) * (i) for i in range(n_v + 1)])\n",
    "print(v_mesh)\n",
    "print(borders)"
   ]
  },
  {
   "cell_type": "code",
   "execution_count": 8,
   "metadata": {},
   "outputs": [
    {
     "data": {
      "text/plain": [
       "2.0"
      ]
     },
     "execution_count": 8,
     "metadata": {},
     "output_type": "execute_result"
    }
   ],
   "source": [
    "v_x = -2.4\n",
    "(v_x + v_cut) / (2 * v_cut) * n_v + 0.5"
   ]
  },
  {
   "cell_type": "code",
   "execution_count": null,
   "metadata": {},
   "outputs": [],
   "source": []
  },
  {
   "cell_type": "code",
   "execution_count": null,
   "metadata": {},
   "outputs": [],
   "source": []
  },
  {
   "cell_type": "code",
   "execution_count": 21,
   "metadata": {},
   "outputs": [
    {
     "data": {
      "text/plain": [
       "-2.4"
      ]
     },
     "execution_count": 21,
     "metadata": {},
     "output_type": "execute_result"
    }
   ],
   "source": [
    "v_x = -3.1\n",
    "v_mesh[int(np.floor(n_v / 2 * (1 + v_x / v_cut)))]"
   ]
  },
  {
   "cell_type": "code",
   "execution_count": null,
   "metadata": {},
   "outputs": [],
   "source": []
  },
  {
   "cell_type": "code",
   "execution_count": 16,
   "metadata": {},
   "outputs": [
    {
     "data": {
      "text/plain": [
       "array([[[ 0.  , 21.76, 16.64, 16.64, 21.76,  0.  ],\n",
       "        [21.76, 11.52,  6.4 ,  6.4 , 11.52, 21.76],\n",
       "        [16.64,  6.4 ,  1.28,  1.28,  6.4 , 16.64],\n",
       "        [16.64,  6.4 ,  1.28,  1.28,  6.4 , 16.64],\n",
       "        [21.76, 11.52,  6.4 ,  6.4 , 11.52, 21.76],\n",
       "        [ 0.  , 21.76, 16.64, 16.64, 21.76,  0.  ]]])"
      ]
     },
     "execution_count": 16,
     "metadata": {},
     "output_type": "execute_result"
    }
   ],
   "source": [
    "v_sq = v_mesh ** 2 * np.ones(n_v).reshape(-1, 1) + np.ones(n_v) * (v_mesh ** 2).reshape(-1, 1)\n",
    "v_sq = v_sq * [v_sq <= 4.8**2]\n",
    "v_sq\n"
   ]
  },
  {
   "cell_type": "code",
   "execution_count": 17,
   "metadata": {},
   "outputs": [
    {
     "name": "stdout",
     "output_type": "stream",
     "text": [
      "[[[1.000e+00 1.883e-05 2.436e-04 2.436e-04 1.883e-05 1.000e+00]\n",
      "  [1.883e-05 3.151e-03 4.076e-02 4.076e-02 3.151e-03 1.883e-05]\n",
      "  [2.436e-04 4.076e-02 5.273e-01 5.273e-01 4.076e-02 2.436e-04]\n",
      "  [2.436e-04 4.076e-02 5.273e-01 5.273e-01 4.076e-02 2.436e-04]\n",
      "  [1.883e-05 3.151e-03 4.076e-02 4.076e-02 3.151e-03 1.883e-05]\n",
      "  [1.000e+00 1.883e-05 2.436e-04 2.436e-04 1.883e-05 1.000e+00]]]\n"
     ]
    }
   ],
   "source": [
    "distr = np.exp(-0.5 * v_sq)\n",
    "print(np.array_str(distr, precision=3))"
   ]
  },
  {
   "cell_type": "code",
   "execution_count": null,
   "metadata": {},
   "outputs": [],
   "source": []
  },
  {
   "cell_type": "markdown",
   "metadata": {},
   "source": [
    "# collisions test"
   ]
  },
  {
   "cell_type": "code",
   "execution_count": 57,
   "metadata": {},
   "outputs": [
    {
     "name": "stdout",
     "output_type": "stream",
     "text": [
      "(20, 20)\n"
     ]
    }
   ],
   "source": [
    "itop = pd.read_csv('col_test/index_to_p', sep='\\t', header=None).to_numpy()[:, :-1].astype(int)\n",
    "\n",
    "ptoi_x = np.zeros(itop.max() + 1)\n",
    "ptoi_y = np.zeros(itop.max() + 1)\n",
    "for i in range(itop.shape[0]):\n",
    "    for j in range(itop.shape[1]):\n",
    "        if itop[i, j] !=0:\n",
    "            ptoi_x[itop[i, j]] = i + 1\n",
    "            ptoi_y[itop[i, j]] = j + 1\n",
    "\n",
    "\n",
    "print(itop.shape)"
   ]
  },
  {
   "cell_type": "code",
   "execution_count": 15,
   "metadata": {},
   "outputs": [
    {
     "name": "stdout",
     "output_type": "stream",
     "text": [
      "(50021, 17)\n"
     ]
    },
    {
     "data": {
      "text/html": [
       "<div>\n",
       "<style scoped>\n",
       "    .dataframe tbody tr th:only-of-type {\n",
       "        vertical-align: middle;\n",
       "    }\n",
       "\n",
       "    .dataframe tbody tr th {\n",
       "        vertical-align: top;\n",
       "    }\n",
       "\n",
       "    .dataframe thead th {\n",
       "        text-align: right;\n",
       "    }\n",
       "</style>\n",
       "<table border=\"1\" class=\"dataframe\">\n",
       "  <thead>\n",
       "    <tr style=\"text-align: right;\">\n",
       "      <th></th>\n",
       "      <th>v_a_x</th>\n",
       "      <th>v_a_y</th>\n",
       "      <th>v_b_x</th>\n",
       "      <th>v_b_y</th>\n",
       "      <th>b</th>\n",
       "      <th>eps</th>\n",
       "      <th>rel_v_x_new</th>\n",
       "      <th>rel_v_y_new</th>\n",
       "      <th>theta</th>\n",
       "      <th>is_active</th>\n",
       "      <th>p_alpha</th>\n",
       "      <th>p_beta</th>\n",
       "      <th>p_l</th>\n",
       "      <th>p_ls</th>\n",
       "      <th>p_m</th>\n",
       "      <th>p_ms</th>\n",
       "      <th>interp_r</th>\n",
       "    </tr>\n",
       "  </thead>\n",
       "  <tbody>\n",
       "    <tr>\n",
       "      <th>0</th>\n",
       "      <td>-4.56</td>\n",
       "      <td>-2.64</td>\n",
       "      <td>-3.12</td>\n",
       "      <td>2.64</td>\n",
       "      <td>0.650407</td>\n",
       "      <td>-1</td>\n",
       "      <td>0.000000</td>\n",
       "      <td>0.00000</td>\n",
       "      <td>0.00000</td>\n",
       "      <td>0</td>\n",
       "      <td>0</td>\n",
       "      <td>0</td>\n",
       "      <td>0</td>\n",
       "      <td>0</td>\n",
       "      <td>0</td>\n",
       "      <td>0</td>\n",
       "      <td>0.000000e+00</td>\n",
       "    </tr>\n",
       "    <tr>\n",
       "      <th>1</th>\n",
       "      <td>-4.56</td>\n",
       "      <td>-0.24</td>\n",
       "      <td>-1.68</td>\n",
       "      <td>0.72</td>\n",
       "      <td>0.300814</td>\n",
       "      <td>-1</td>\n",
       "      <td>-0.266779</td>\n",
       "      <td>-3.02404</td>\n",
       "      <td>1.98054</td>\n",
       "      <td>1</td>\n",
       "      <td>3</td>\n",
       "      <td>91</td>\n",
       "      <td>42</td>\n",
       "      <td>58</td>\n",
       "      <td>36</td>\n",
       "      <td>21</td>\n",
       "      <td>1.927470e-15</td>\n",
       "    </tr>\n",
       "    <tr>\n",
       "      <th>2</th>\n",
       "      <td>-4.56</td>\n",
       "      <td>1.68</td>\n",
       "      <td>-0.24</td>\n",
       "      <td>-1.20</td>\n",
       "      <td>0.951220</td>\n",
       "      <td>1</td>\n",
       "      <td>0.000000</td>\n",
       "      <td>0.00000</td>\n",
       "      <td>0.00000</td>\n",
       "      <td>0</td>\n",
       "      <td>0</td>\n",
       "      <td>0</td>\n",
       "      <td>0</td>\n",
       "      <td>0</td>\n",
       "      <td>0</td>\n",
       "      <td>0</td>\n",
       "      <td>0.000000e+00</td>\n",
       "    </tr>\n",
       "    <tr>\n",
       "      <th>3</th>\n",
       "      <td>-4.56</td>\n",
       "      <td>4.08</td>\n",
       "      <td>1.20</td>\n",
       "      <td>-3.60</td>\n",
       "      <td>0.601627</td>\n",
       "      <td>1</td>\n",
       "      <td>0.000000</td>\n",
       "      <td>0.00000</td>\n",
       "      <td>0.00000</td>\n",
       "      <td>0</td>\n",
       "      <td>0</td>\n",
       "      <td>0</td>\n",
       "      <td>0</td>\n",
       "      <td>0</td>\n",
       "      <td>0</td>\n",
       "      <td>0</td>\n",
       "      <td>0.000000e+00</td>\n",
       "    </tr>\n",
       "    <tr>\n",
       "      <th>4</th>\n",
       "      <td>-4.56</td>\n",
       "      <td>-3.60</td>\n",
       "      <td>2.64</td>\n",
       "      <td>4.08</td>\n",
       "      <td>0.252034</td>\n",
       "      <td>-1</td>\n",
       "      <td>0.000000</td>\n",
       "      <td>0.00000</td>\n",
       "      <td>0.00000</td>\n",
       "      <td>0</td>\n",
       "      <td>0</td>\n",
       "      <td>0</td>\n",
       "      <td>0</td>\n",
       "      <td>0</td>\n",
       "      <td>0</td>\n",
       "      <td>0</td>\n",
       "      <td>0.000000e+00</td>\n",
       "    </tr>\n",
       "  </tbody>\n",
       "</table>\n",
       "</div>"
      ],
      "text/plain": [
       "   v_a_x  v_a_y  v_b_x  v_b_y         b  eps  rel_v_x_new  rel_v_y_new  \\\n",
       "0  -4.56  -2.64  -3.12   2.64  0.650407   -1     0.000000      0.00000   \n",
       "1  -4.56  -0.24  -1.68   0.72  0.300814   -1    -0.266779     -3.02404   \n",
       "2  -4.56   1.68  -0.24  -1.20  0.951220    1     0.000000      0.00000   \n",
       "3  -4.56   4.08   1.20  -3.60  0.601627    1     0.000000      0.00000   \n",
       "4  -4.56  -3.60   2.64   4.08  0.252034   -1     0.000000      0.00000   \n",
       "\n",
       "     theta  is_active  p_alpha  p_beta  p_l  p_ls  p_m  p_ms      interp_r  \n",
       "0  0.00000          0        0       0    0     0    0     0  0.000000e+00  \n",
       "1  1.98054          1        3      91   42    58   36    21  1.927470e-15  \n",
       "2  0.00000          0        0       0    0     0    0     0  0.000000e+00  \n",
       "3  0.00000          0        0       0    0     0    0     0  0.000000e+00  \n",
       "4  0.00000          0        0       0    0     0    0     0  0.000000e+00  "
      ]
     },
     "execution_count": 15,
     "metadata": {},
     "output_type": "execute_result"
    }
   ],
   "source": [
    "cols = pd.read_csv('col_test/cols', sep='\\t', index_col=None).drop(columns='trash')\n",
    "interp = pd.read_csv('col_test/interp_active', sep='\\t', index_col=None)\n",
    "relv = pd.read_csv('col_test/relv_theta', sep='\\t', index_col=None)\n",
    "\n",
    "df_test = pd.concat([cols, relv, interp], axis=1)\n",
    "del cols, interp, relv\n",
    "\n",
    "print(df_test.shape)\n",
    "df_test.head()"
   ]
  },
  {
   "cell_type": "code",
   "execution_count": 67,
   "metadata": {},
   "outputs": [
    {
     "name": "stdout",
     "output_type": "stream",
     "text": [
      "1.0 11.0\n",
      "8.0 15.0\n",
      "\n",
      "3.0 10.0\n",
      "6.0 16.0\n",
      "\n",
      "3.0 9.0\n",
      "6.0 17.0\n",
      "\n"
     ]
    }
   ],
   "source": [
    "row_num = 28\n",
    "s = df_test.loc[row_num].astype(int)\n",
    "print(ptoi_x[s.p_alpha], ptoi_y[s.p_alpha])\n",
    "print(ptoi_x[s.p_beta], ptoi_y[s.p_beta])\n",
    "print()\n",
    "print(ptoi_x[s.p_l], ptoi_y[s.p_l])\n",
    "print(ptoi_x[s.p_m], ptoi_y[s.p_m])\n",
    "print()\n",
    "print(ptoi_x[s.p_ls], ptoi_y[s.p_ls])\n",
    "print(ptoi_x[s.p_ms], ptoi_y[s.p_ms])\n",
    "print()"
   ]
  },
  {
   "cell_type": "code",
   "execution_count": null,
   "metadata": {},
   "outputs": [],
   "source": []
  },
  {
   "cell_type": "code",
   "execution_count": null,
   "metadata": {},
   "outputs": [],
   "source": []
  },
  {
   "cell_type": "code",
   "execution_count": 20,
   "metadata": {},
   "outputs": [],
   "source": [
    "df_contr = df_test[['v_a_x', 'v_a_y', 'v_b_x', 'v_b_y', 'b', 'eps']]\n"
   ]
  },
  {
   "cell_type": "code",
   "execution_count": null,
   "metadata": {},
   "outputs": [],
   "source": [
    "df_contr['is_active'] = ((df_contr.v_a_x ** 2 + df_contr.v_a_y ** 2 < 4.8 ** 2) & (df_contr.v_b_x ** 2 + df_contr.v_b_y ** 2 < 4.8 ** 2)).astype(int)"
   ]
  },
  {
   "cell_type": "code",
   "execution_count": null,
   "metadata": {},
   "outputs": [],
   "source": [
    "df_contr['relv_x'] = df_contr.v_b_x - df_contr.v_a_x\n",
    "df_contr['relv_y'] = df_contr.v_b_y - df_contr.v_a_y\n",
    "\n",
    "df_contr['theta'] = 2 * np.arccos(np.sqrt(df_contr.b))\n",
    "\n",
    "df_contr['rel_v_x_new'] = np.cos(df_contr.theta) * df_contr.relv_x - df_contr.eps * np.sin(df_contr.theta) * df_contr.relv_y\n",
    "df_contr['rel_v_y_new'] = np.cos(df_contr.theta) * df_contr.relv_y + df_contr.eps * np.sin(df_contr.theta) * df_contr.relv_x"
   ]
  },
  {
   "cell_type": "code",
   "execution_count": null,
   "metadata": {},
   "outputs": [],
   "source": [
    "df_contr['v_a_new_x'] = df_contr.v_b_x + df_contr.v_a_x - df_contr.rel_v_x_new / 2\n",
    "df_contr['v_a_new_y'] = df_contr.v_b_y + df_contr.v_a_y - df_contr.rel_v_y_new / 2"
   ]
  },
  {
   "cell_type": "code",
   "execution_count": 38,
   "metadata": {},
   "outputs": [
    {
     "data": {
      "text/plain": [
       "31182"
      ]
     },
     "execution_count": 38,
     "metadata": {},
     "output_type": "execute_result"
    }
   ],
   "source": [
    "df_contr = df_contr[df_contr.is_active == 1]\n",
    "len(df_contr)"
   ]
  },
  {
   "cell_type": "code",
   "execution_count": null,
   "metadata": {},
   "outputs": [],
   "source": []
  }
 ],
 "metadata": {
  "kernelspec": {
   "display_name": "Python 3",
   "language": "python",
   "name": "python3"
  },
  "language_info": {
   "codemirror_mode": {
    "name": "ipython",
    "version": 3
   },
   "file_extension": ".py",
   "mimetype": "text/x-python",
   "name": "python",
   "nbconvert_exporter": "python",
   "pygments_lexer": "ipython3",
   "version": "3.10.12"
  }
 },
 "nbformat": 4,
 "nbformat_minor": 2
}
