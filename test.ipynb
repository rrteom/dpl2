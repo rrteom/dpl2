{
 "cells": [
  {
   "cell_type": "code",
   "execution_count": 1,
   "metadata": {},
   "outputs": [],
   "source": [
    "import numpy as np"
   ]
  },
  {
   "cell_type": "code",
   "execution_count": 3,
   "metadata": {},
   "outputs": [
    {
     "name": "stdout",
     "output_type": "stream",
     "text": [
      "[-4.  -2.4 -0.8  0.8  2.4  4. ]\n",
      "[-4.8 -3.2 -1.6  0.   1.6  3.2  4.8]\n"
     ]
    }
   ],
   "source": [
    "v_cut = 4.8\n",
    "n_v = 6\n",
    "v_mesh = np.array([-v_cut + (2 * v_cut / n_v) * (i + 0.5) for i in range(n_v)])\n",
    "borders = np.array([-v_cut + (2 * v_cut / n_v) * (i) for i in range(n_v + 1)])\n",
    "print(v_mesh)\n",
    "print(borders)"
   ]
  },
  {
   "cell_type": "code",
   "execution_count": 8,
   "metadata": {},
   "outputs": [
    {
     "data": {
      "text/plain": [
       "2.0"
      ]
     },
     "execution_count": 8,
     "metadata": {},
     "output_type": "execute_result"
    }
   ],
   "source": [
    "v_x = -2.4\n",
    "(v_x + v_cut) / (2 * v_cut) * n_v + 0.5"
   ]
  },
  {
   "cell_type": "code",
   "execution_count": null,
   "metadata": {},
   "outputs": [],
   "source": []
  },
  {
   "cell_type": "code",
   "execution_count": null,
   "metadata": {},
   "outputs": [],
   "source": []
  },
  {
   "cell_type": "code",
   "execution_count": 21,
   "metadata": {},
   "outputs": [
    {
     "data": {
      "text/plain": [
       "-2.4"
      ]
     },
     "execution_count": 21,
     "metadata": {},
     "output_type": "execute_result"
    }
   ],
   "source": [
    "v_x = -3.1\n",
    "v_mesh[int(np.floor(n_v / 2 * (1 + v_x / v_cut)))]"
   ]
  },
  {
   "cell_type": "code",
   "execution_count": null,
   "metadata": {},
   "outputs": [],
   "source": []
  },
  {
   "cell_type": "code",
   "execution_count": 16,
   "metadata": {},
   "outputs": [
    {
     "data": {
      "text/plain": [
       "array([[[ 0.  , 21.76, 16.64, 16.64, 21.76,  0.  ],\n",
       "        [21.76, 11.52,  6.4 ,  6.4 , 11.52, 21.76],\n",
       "        [16.64,  6.4 ,  1.28,  1.28,  6.4 , 16.64],\n",
       "        [16.64,  6.4 ,  1.28,  1.28,  6.4 , 16.64],\n",
       "        [21.76, 11.52,  6.4 ,  6.4 , 11.52, 21.76],\n",
       "        [ 0.  , 21.76, 16.64, 16.64, 21.76,  0.  ]]])"
      ]
     },
     "execution_count": 16,
     "metadata": {},
     "output_type": "execute_result"
    }
   ],
   "source": [
    "v_sq = v_mesh ** 2 * np.ones(n_v).reshape(-1, 1) + np.ones(n_v) * (v_mesh ** 2).reshape(-1, 1)\n",
    "v_sq = v_sq * [v_sq <= 4.8**2]\n",
    "v_sq\n"
   ]
  },
  {
   "cell_type": "code",
   "execution_count": 17,
   "metadata": {},
   "outputs": [
    {
     "name": "stdout",
     "output_type": "stream",
     "text": [
      "[[[1.000e+00 1.883e-05 2.436e-04 2.436e-04 1.883e-05 1.000e+00]\n",
      "  [1.883e-05 3.151e-03 4.076e-02 4.076e-02 3.151e-03 1.883e-05]\n",
      "  [2.436e-04 4.076e-02 5.273e-01 5.273e-01 4.076e-02 2.436e-04]\n",
      "  [2.436e-04 4.076e-02 5.273e-01 5.273e-01 4.076e-02 2.436e-04]\n",
      "  [1.883e-05 3.151e-03 4.076e-02 4.076e-02 3.151e-03 1.883e-05]\n",
      "  [1.000e+00 1.883e-05 2.436e-04 2.436e-04 1.883e-05 1.000e+00]]]\n"
     ]
    }
   ],
   "source": [
    "distr = np.exp(-0.5 * v_sq)\n",
    "print(np.array_str(distr, precision=3))"
   ]
  },
  {
   "cell_type": "code",
   "execution_count": null,
   "metadata": {},
   "outputs": [],
   "source": []
  }
 ],
 "metadata": {
  "kernelspec": {
   "display_name": "Python 3",
   "language": "python",
   "name": "python3"
  },
  "language_info": {
   "codemirror_mode": {
    "name": "ipython",
    "version": 3
   },
   "file_extension": ".py",
   "mimetype": "text/x-python",
   "name": "python",
   "nbconvert_exporter": "python",
   "pygments_lexer": "ipython3",
   "version": "3.10.12"
  }
 },
 "nbformat": 4,
 "nbformat_minor": 2
}
